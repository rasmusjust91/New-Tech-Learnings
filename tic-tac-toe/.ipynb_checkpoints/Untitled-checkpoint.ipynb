{
 "cells": [
  {
   "cell_type": "code",
   "execution_count": 22,
   "metadata": {},
   "outputs": [],
   "source": [
    "class Game:\n",
    "    def __init__(self):\n",
    "        self.empty_symbol = '-1'\n",
    "        self.player_one = 'X'\n",
    "        self.player_two = 'O'\n",
    "        self.board = [\n",
    "            [self.empty_symbol for _ in range(3)] \n",
    "            for _ in range(3)\n",
    "        ]\n",
    "        self.turn = 0\n",
    "        self.who = self.player_one\n",
    "    \n",
    "    def show_board(self):\n",
    "        print('\\n'.join(['\\t'.join([str(cell) for cell in row]) \n",
    "                         for row in self.board]))\n",
    "    \n",
    "    def update(self, row, col):\n",
    "        \n",
    "        self.board[row][col] = self.who\n",
    "    \n",
    "        if self.who == self.player_one:\n",
    "            self.who = self.player_two\n",
    "        else:\n",
    "            self.who = self.player_one\n",
    "            \n",
    "        self.turn += 1\n",
    "    \n",
    "        self.show_board()\n",
    "        \n",
    "        if self.turn == 9:\n",
    "            print('DRAW!!!!')\n",
    "        \n",
    "    \n",
    "    "
   ]
  },
  {
   "cell_type": "code",
   "execution_count": 21,
   "metadata": {},
   "outputs": [
    {
     "name": "stdout",
     "output_type": "stream",
     "text": [
      "-1\t-1\t-1\n",
      "-1\t-1\t-1\n",
      "-1\t-1\t-1\n"
     ]
    }
   ],
   "source": [
    "G"
   ]
  },
  {
   "cell_type": "code",
   "execution_count": null,
   "metadata": {},
   "outputs": [],
   "source": []
  }
 ],
 "metadata": {
  "kernelspec": {
   "display_name": "Python 3",
   "language": "python",
   "name": "python3"
  },
  "language_info": {
   "codemirror_mode": {
    "name": "ipython",
    "version": 3
   },
   "file_extension": ".py",
   "mimetype": "text/x-python",
   "name": "python",
   "nbconvert_exporter": "python",
   "pygments_lexer": "ipython3",
   "version": "3.7.6"
  }
 },
 "nbformat": 4,
 "nbformat_minor": 4
}
